{
  "cells": [
    {
      "cell_type": "markdown",
      "source": [
        "# Capsule Network (CapsNet) for MNIST Digit Classification\n",
        "This project implements a Capsule Network (CapsNet) from scratch using PyTorch to classify handwritten digits from the MNIST dataset. CapsNet is an advanced deep learning architecture that preserves spatial hierarchies and part-whole relationships better than traditional CNNs.\n"
      ],
      "metadata": {
        "id": "GoSNmT1Yjlhl"
      }
    },
    {
      "cell_type": "code",
      "execution_count": null,
      "metadata": {
        "colab": {
          "base_uri": "https://localhost:8080/"
        },
        "id": "qjn3Mwq1uJ3S",
        "outputId": "768f1c51-57ba-42e4-e759-0361270a8c85"
      },
      "outputs": [
        {
          "name": "stdout",
          "output_type": "stream",
          "text": [
            "Requirement already satisfied: torch in /usr/local/lib/python3.11/dist-packages (2.6.0+cu124)\n",
            "Requirement already satisfied: torchvision in /usr/local/lib/python3.11/dist-packages (0.21.0+cu124)\n",
            "Requirement already satisfied: matplotlib in /usr/local/lib/python3.11/dist-packages (3.10.0)\n",
            "Requirement already satisfied: filelock in /usr/local/lib/python3.11/dist-packages (from torch) (3.18.0)\n",
            "Requirement already satisfied: typing-extensions>=4.10.0 in /usr/local/lib/python3.11/dist-packages (from torch) (4.14.0)\n",
            "Requirement already satisfied: networkx in /usr/local/lib/python3.11/dist-packages (from torch) (3.5)\n",
            "Requirement already satisfied: jinja2 in /usr/local/lib/python3.11/dist-packages (from torch) (3.1.6)\n",
            "Requirement already satisfied: fsspec in /usr/local/lib/python3.11/dist-packages (from torch) (2025.3.2)\n",
            "Collecting nvidia-cuda-nvrtc-cu12==12.4.127 (from torch)\n",
            "  Downloading nvidia_cuda_nvrtc_cu12-12.4.127-py3-none-manylinux2014_x86_64.whl.metadata (1.5 kB)\n",
            "Collecting nvidia-cuda-runtime-cu12==12.4.127 (from torch)\n",
            "  Downloading nvidia_cuda_runtime_cu12-12.4.127-py3-none-manylinux2014_x86_64.whl.metadata (1.5 kB)\n",
            "Collecting nvidia-cuda-cupti-cu12==12.4.127 (from torch)\n",
            "  Downloading nvidia_cuda_cupti_cu12-12.4.127-py3-none-manylinux2014_x86_64.whl.metadata (1.6 kB)\n",
            "Collecting nvidia-cudnn-cu12==9.1.0.70 (from torch)\n",
            "  Downloading nvidia_cudnn_cu12-9.1.0.70-py3-none-manylinux2014_x86_64.whl.metadata (1.6 kB)\n",
            "Collecting nvidia-cublas-cu12==12.4.5.8 (from torch)\n",
            "  Downloading nvidia_cublas_cu12-12.4.5.8-py3-none-manylinux2014_x86_64.whl.metadata (1.5 kB)\n",
            "Collecting nvidia-cufft-cu12==11.2.1.3 (from torch)\n",
            "  Downloading nvidia_cufft_cu12-11.2.1.3-py3-none-manylinux2014_x86_64.whl.metadata (1.5 kB)\n",
            "Collecting nvidia-curand-cu12==10.3.5.147 (from torch)\n",
            "  Downloading nvidia_curand_cu12-10.3.5.147-py3-none-manylinux2014_x86_64.whl.metadata (1.5 kB)\n",
            "Collecting nvidia-cusolver-cu12==11.6.1.9 (from torch)\n",
            "  Downloading nvidia_cusolver_cu12-11.6.1.9-py3-none-manylinux2014_x86_64.whl.metadata (1.6 kB)\n",
            "Collecting nvidia-cusparse-cu12==12.3.1.170 (from torch)\n",
            "  Downloading nvidia_cusparse_cu12-12.3.1.170-py3-none-manylinux2014_x86_64.whl.metadata (1.6 kB)\n",
            "Requirement already satisfied: nvidia-cusparselt-cu12==0.6.2 in /usr/local/lib/python3.11/dist-packages (from torch) (0.6.2)\n",
            "Requirement already satisfied: nvidia-nccl-cu12==2.21.5 in /usr/local/lib/python3.11/dist-packages (from torch) (2.21.5)\n",
            "Requirement already satisfied: nvidia-nvtx-cu12==12.4.127 in /usr/local/lib/python3.11/dist-packages (from torch) (12.4.127)\n",
            "Collecting nvidia-nvjitlink-cu12==12.4.127 (from torch)\n",
            "  Downloading nvidia_nvjitlink_cu12-12.4.127-py3-none-manylinux2014_x86_64.whl.metadata (1.5 kB)\n",
            "Requirement already satisfied: triton==3.2.0 in /usr/local/lib/python3.11/dist-packages (from torch) (3.2.0)\n",
            "Requirement already satisfied: sympy==1.13.1 in /usr/local/lib/python3.11/dist-packages (from torch) (1.13.1)\n",
            "Requirement already satisfied: mpmath<1.4,>=1.1.0 in /usr/local/lib/python3.11/dist-packages (from sympy==1.13.1->torch) (1.3.0)\n",
            "Requirement already satisfied: numpy in /usr/local/lib/python3.11/dist-packages (from torchvision) (2.0.2)\n",
            "Requirement already satisfied: pillow!=8.3.*,>=5.3.0 in /usr/local/lib/python3.11/dist-packages (from torchvision) (11.2.1)\n",
            "Requirement already satisfied: contourpy>=1.0.1 in /usr/local/lib/python3.11/dist-packages (from matplotlib) (1.3.2)\n",
            "Requirement already satisfied: cycler>=0.10 in /usr/local/lib/python3.11/dist-packages (from matplotlib) (0.12.1)\n",
            "Requirement already satisfied: fonttools>=4.22.0 in /usr/local/lib/python3.11/dist-packages (from matplotlib) (4.58.4)\n",
            "Requirement already satisfied: kiwisolver>=1.3.1 in /usr/local/lib/python3.11/dist-packages (from matplotlib) (1.4.8)\n",
            "Requirement already satisfied: packaging>=20.0 in /usr/local/lib/python3.11/dist-packages (from matplotlib) (24.2)\n",
            "Requirement already satisfied: pyparsing>=2.3.1 in /usr/local/lib/python3.11/dist-packages (from matplotlib) (3.2.3)\n",
            "Requirement already satisfied: python-dateutil>=2.7 in /usr/local/lib/python3.11/dist-packages (from matplotlib) (2.9.0.post0)\n",
            "Requirement already satisfied: six>=1.5 in /usr/local/lib/python3.11/dist-packages (from python-dateutil>=2.7->matplotlib) (1.17.0)\n",
            "Requirement already satisfied: MarkupSafe>=2.0 in /usr/local/lib/python3.11/dist-packages (from jinja2->torch) (3.0.2)\n",
            "Downloading nvidia_cublas_cu12-12.4.5.8-py3-none-manylinux2014_x86_64.whl (363.4 MB)\n",
            "\u001b[2K   \u001b[90m━━━━━━━━━━━━━━━━━━━━━━━━━━━━━━━━━━━━━━━━\u001b[0m \u001b[32m363.4/363.4 MB\u001b[0m \u001b[31m1.4 MB/s\u001b[0m eta \u001b[36m0:00:00\u001b[0m\n",
            "\u001b[?25hDownloading nvidia_cuda_cupti_cu12-12.4.127-py3-none-manylinux2014_x86_64.whl (13.8 MB)\n",
            "\u001b[2K   \u001b[90m━━━━━━━━━━━━━━━━━━━━━━━━━━━━━━━━━━━━━━━━\u001b[0m \u001b[32m13.8/13.8 MB\u001b[0m \u001b[31m88.6 MB/s\u001b[0m eta \u001b[36m0:00:00\u001b[0m\n",
            "\u001b[?25hDownloading nvidia_cuda_nvrtc_cu12-12.4.127-py3-none-manylinux2014_x86_64.whl (24.6 MB)\n",
            "\u001b[2K   \u001b[90m━━━━━━━━━━━━━━━━━━━━━━━━━━━━━━━━━━━━━━━━\u001b[0m \u001b[32m24.6/24.6 MB\u001b[0m \u001b[31m51.1 MB/s\u001b[0m eta \u001b[36m0:00:00\u001b[0m\n",
            "\u001b[?25hDownloading nvidia_cuda_runtime_cu12-12.4.127-py3-none-manylinux2014_x86_64.whl (883 kB)\n",
            "\u001b[2K   \u001b[90m━━━━━━━━━━━━━━━━━━━━━━━━━━━━━━━━━━━━━━━━\u001b[0m \u001b[32m883.7/883.7 kB\u001b[0m \u001b[31m28.5 MB/s\u001b[0m eta \u001b[36m0:00:00\u001b[0m\n",
            "\u001b[?25hDownloading nvidia_cudnn_cu12-9.1.0.70-py3-none-manylinux2014_x86_64.whl (664.8 MB)\n",
            "\u001b[2K   \u001b[90m━━━━━━━━━━━━━━━━━━━━━━━━━━━━━━━━━━━━━━━━\u001b[0m \u001b[32m664.8/664.8 MB\u001b[0m \u001b[31m2.7 MB/s\u001b[0m eta \u001b[36m0:00:00\u001b[0m\n",
            "\u001b[?25hDownloading nvidia_cufft_cu12-11.2.1.3-py3-none-manylinux2014_x86_64.whl (211.5 MB)\n",
            "\u001b[2K   \u001b[90m━━━━━━━━━━━━━━━━━━━━━━━━━━━━━━━━━━━━━━━━\u001b[0m \u001b[32m211.5/211.5 MB\u001b[0m \u001b[31m6.4 MB/s\u001b[0m eta \u001b[36m0:00:00\u001b[0m\n",
            "\u001b[?25hDownloading nvidia_curand_cu12-10.3.5.147-py3-none-manylinux2014_x86_64.whl (56.3 MB)\n",
            "\u001b[2K   \u001b[90m━━━━━━━━━━━━━━━━━━━━━━━━━━━━━━━━━━━━━━━━\u001b[0m \u001b[32m56.3/56.3 MB\u001b[0m \u001b[31m11.7 MB/s\u001b[0m eta \u001b[36m0:00:00\u001b[0m\n",
            "\u001b[?25hDownloading nvidia_cusolver_cu12-11.6.1.9-py3-none-manylinux2014_x86_64.whl (127.9 MB)\n",
            "\u001b[2K   \u001b[90m━━━━━━━━━━━━━━━━━━━━━━━━━━━━━━━━━━━━━━━━\u001b[0m \u001b[32m127.9/127.9 MB\u001b[0m \u001b[31m7.4 MB/s\u001b[0m eta \u001b[36m0:00:00\u001b[0m\n",
            "\u001b[?25hDownloading nvidia_cusparse_cu12-12.3.1.170-py3-none-manylinux2014_x86_64.whl (207.5 MB)\n",
            "\u001b[2K   \u001b[90m━━━━━━━━━━━━━━━━━━━━━━━━━━━━━━━━━━━━━━━━\u001b[0m \u001b[32m207.5/207.5 MB\u001b[0m \u001b[31m6.2 MB/s\u001b[0m eta \u001b[36m0:00:00\u001b[0m\n",
            "\u001b[?25hDownloading nvidia_nvjitlink_cu12-12.4.127-py3-none-manylinux2014_x86_64.whl (21.1 MB)\n",
            "\u001b[2K   \u001b[90m━━━━━━━━━━━━━━━━━━━━━━━━━━━━━━━━━━━━━━━━\u001b[0m \u001b[32m21.1/21.1 MB\u001b[0m \u001b[31m53.9 MB/s\u001b[0m eta \u001b[36m0:00:00\u001b[0m\n",
            "\u001b[?25hInstalling collected packages: nvidia-nvjitlink-cu12, nvidia-curand-cu12, nvidia-cufft-cu12, nvidia-cuda-runtime-cu12, nvidia-cuda-nvrtc-cu12, nvidia-cuda-cupti-cu12, nvidia-cublas-cu12, nvidia-cusparse-cu12, nvidia-cudnn-cu12, nvidia-cusolver-cu12\n",
            "  Attempting uninstall: nvidia-nvjitlink-cu12\n",
            "    Found existing installation: nvidia-nvjitlink-cu12 12.5.82\n",
            "    Uninstalling nvidia-nvjitlink-cu12-12.5.82:\n",
            "      Successfully uninstalled nvidia-nvjitlink-cu12-12.5.82\n",
            "  Attempting uninstall: nvidia-curand-cu12\n",
            "    Found existing installation: nvidia-curand-cu12 10.3.6.82\n",
            "    Uninstalling nvidia-curand-cu12-10.3.6.82:\n",
            "      Successfully uninstalled nvidia-curand-cu12-10.3.6.82\n",
            "  Attempting uninstall: nvidia-cufft-cu12\n",
            "    Found existing installation: nvidia-cufft-cu12 11.2.3.61\n",
            "    Uninstalling nvidia-cufft-cu12-11.2.3.61:\n",
            "      Successfully uninstalled nvidia-cufft-cu12-11.2.3.61\n",
            "  Attempting uninstall: nvidia-cuda-runtime-cu12\n",
            "    Found existing installation: nvidia-cuda-runtime-cu12 12.5.82\n",
            "    Uninstalling nvidia-cuda-runtime-cu12-12.5.82:\n",
            "      Successfully uninstalled nvidia-cuda-runtime-cu12-12.5.82\n",
            "  Attempting uninstall: nvidia-cuda-nvrtc-cu12\n",
            "    Found existing installation: nvidia-cuda-nvrtc-cu12 12.5.82\n",
            "    Uninstalling nvidia-cuda-nvrtc-cu12-12.5.82:\n",
            "      Successfully uninstalled nvidia-cuda-nvrtc-cu12-12.5.82\n",
            "  Attempting uninstall: nvidia-cuda-cupti-cu12\n",
            "    Found existing installation: nvidia-cuda-cupti-cu12 12.5.82\n",
            "    Uninstalling nvidia-cuda-cupti-cu12-12.5.82:\n",
            "      Successfully uninstalled nvidia-cuda-cupti-cu12-12.5.82\n",
            "  Attempting uninstall: nvidia-cublas-cu12\n",
            "    Found existing installation: nvidia-cublas-cu12 12.5.3.2\n",
            "    Uninstalling nvidia-cublas-cu12-12.5.3.2:\n",
            "      Successfully uninstalled nvidia-cublas-cu12-12.5.3.2\n",
            "  Attempting uninstall: nvidia-cusparse-cu12\n",
            "    Found existing installation: nvidia-cusparse-cu12 12.5.1.3\n",
            "    Uninstalling nvidia-cusparse-cu12-12.5.1.3:\n",
            "      Successfully uninstalled nvidia-cusparse-cu12-12.5.1.3\n",
            "  Attempting uninstall: nvidia-cudnn-cu12\n",
            "    Found existing installation: nvidia-cudnn-cu12 9.3.0.75\n",
            "    Uninstalling nvidia-cudnn-cu12-9.3.0.75:\n",
            "      Successfully uninstalled nvidia-cudnn-cu12-9.3.0.75\n",
            "  Attempting uninstall: nvidia-cusolver-cu12\n",
            "    Found existing installation: nvidia-cusolver-cu12 11.6.3.83\n",
            "    Uninstalling nvidia-cusolver-cu12-11.6.3.83:\n",
            "      Successfully uninstalled nvidia-cusolver-cu12-11.6.3.83\n",
            "Successfully installed nvidia-cublas-cu12-12.4.5.8 nvidia-cuda-cupti-cu12-12.4.127 nvidia-cuda-nvrtc-cu12-12.4.127 nvidia-cuda-runtime-cu12-12.4.127 nvidia-cudnn-cu12-9.1.0.70 nvidia-cufft-cu12-11.2.1.3 nvidia-curand-cu12-10.3.5.147 nvidia-cusolver-cu12-11.6.1.9 nvidia-cusparse-cu12-12.3.1.170 nvidia-nvjitlink-cu12-12.4.127\n"
          ]
        }
      ],
      "source": [
        "pip install torch torchvision matplotlib\n"
      ]
    },
    {
      "cell_type": "markdown",
      "source": [
        "##  Importing Required Libraries\n",
        "We import essential libraries including PyTorch, torchvision for dataset handling, and NumPy for array operations.\n"
      ],
      "metadata": {
        "id": "2OXbsT-sj7dS"
      }
    },
    {
      "cell_type": "code",
      "execution_count": null,
      "metadata": {
        "id": "znHbQ-TgusgY"
      },
      "outputs": [],
      "source": [
        "import torch\n",
        "import torch.nn as nn\n",
        "import torch.nn.functional as F\n",
        "from torchvision import datasets, transforms\n",
        "from torch.utils.data import DataLoader\n",
        "import numpy as np\n",
        "import matplotlib.pyplot as plt\n"
      ]
    },
    {
      "cell_type": "markdown",
      "source": [
        "##  Loading the MNIST Dataset\n",
        "We download and load the MNIST dataset using torchvision. The images are normalized and loaded using DataLoader.\n"
      ],
      "metadata": {
        "id": "dMV83MekkEQa"
      }
    },
    {
      "cell_type": "code",
      "execution_count": null,
      "metadata": {
        "colab": {
          "base_uri": "https://localhost:8080/"
        },
        "id": "PVhu5F4_uzu5",
        "outputId": "0999c086-1351-490d-b4d6-1efb1a07e121"
      },
      "outputs": [
        {
          "name": "stderr",
          "output_type": "stream",
          "text": [
            "100%|██████████| 9.91M/9.91M [00:00<00:00, 15.7MB/s]\n",
            "100%|██████████| 28.9k/28.9k [00:00<00:00, 488kB/s]\n",
            "100%|██████████| 1.65M/1.65M [00:00<00:00, 3.80MB/s]\n",
            "100%|██████████| 4.54k/4.54k [00:00<00:00, 5.65MB/s]\n"
          ]
        }
      ],
      "source": [
        "transform = transforms.Compose([\n",
        "    transforms.ToTensor(),\n",
        "    transforms.Normalize((0.1307,), (0.3081,))\n",
        "])\n",
        "\n",
        "train_dataset = datasets.MNIST(root='./data', train=True, transform=transform, download=True)\n",
        "test_dataset = datasets.MNIST(root='./data', train=False, transform=transform, download=True)\n",
        "\n",
        "train_loader = DataLoader(train_dataset, batch_size=128, shuffle=True)\n",
        "test_loader = DataLoader(test_dataset, batch_size=128, shuffle=False)\n"
      ]
    },
    {
      "cell_type": "markdown",
      "source": [
        "##  Squash Activation Function\n",
        "The squash function ensures that the length of the output vector is between 0 and 1, which is crucial in Capsule Networks.\n"
      ],
      "metadata": {
        "id": "-uA4CtW_kH8m"
      }
    },
    {
      "cell_type": "code",
      "execution_count": null,
      "metadata": {
        "id": "x7VtqHE-u2HZ"
      },
      "outputs": [],
      "source": [
        "def squash(tensor, dim=-1):\n",
        "    norm = torch.norm(tensor, dim=dim, keepdim=True)\n",
        "    scale = (norm**2) / (1 + norm**2)\n",
        "    return scale * tensor / (norm + 1e-8)\n"
      ]
    },
    {
      "cell_type": "markdown",
      "source": [
        "##  Defining the Capsule Network Architecture\n",
        "We define a PyTorch neural network model using capsules instead of traditional layers. It includes:\n",
        "- Conv layer\n",
        "- Primary Capsules\n",
        "- Digit Capsules\n"
      ],
      "metadata": {
        "id": "1O9HhkG0kNae"
      }
    },
    {
      "cell_type": "code",
      "execution_count": null,
      "metadata": {
        "id": "vGXrqeoSu5Ob"
      },
      "outputs": [],
      "source": [
        "class PrimaryCapsules(nn.Module):\n",
        "    def __init__(self, in_channels, out_capsules, capsule_dim, kernel_size, stride):\n",
        "        super().__init__()\n",
        "        self.capsules = nn.Conv2d(in_channels, out_capsules * capsule_dim, kernel_size, stride)\n",
        "\n",
        "        self.out_capsules = out_capsules\n",
        "        self.capsule_dim = capsule_dim\n",
        "\n",
        "    def forward(self, x):\n",
        "        batch_size = x.size(0)\n",
        "        out = self.capsules(x)\n",
        "        out = out.view(batch_size, self.out_capsules, self.capsule_dim, -1)\n",
        "        out = out.permute(0, 3, 1, 2).contiguous()  # [B, num_capsules, out_capsules, capsule_dim]\n",
        "        out = out.view(batch_size, -1, self.capsule_dim)  # Flatten spatial dims\n",
        "        return squash(out)\n"
      ]
    },
    {
      "cell_type": "code",
      "execution_count": null,
      "metadata": {
        "id": "yzOmIMVBu7qp"
      },
      "outputs": [],
      "source": [
        "class DigitCapsules(nn.Module):\n",
        "    def __init__(self, num_caps_in, dim_caps_in, num_caps_out, dim_caps_out, routing_iters=3):\n",
        "        super().__init__()\n",
        "        self.num_caps_out = num_caps_out\n",
        "        self.dim_caps_out = dim_caps_out\n",
        "        self.routing_iters = routing_iters\n",
        "\n",
        "        self.W = nn.Parameter(0.01 * torch.randn(1, num_caps_in, num_caps_out, dim_caps_out, dim_caps_in))\n",
        "\n",
        "    def forward(self, x):\n",
        "        batch_size = x.size(0)\n",
        "        x = x.unsqueeze(2).unsqueeze(4)\n",
        "        x = x.expand(batch_size, -1, self.num_caps_out, -1, 1)\n",
        "        W = self.W.expand(batch_size, -1, -1, -1, -1)\n",
        "\n",
        "        u_hat = torch.matmul(W, x).squeeze(-1)\n",
        "\n",
        "        b = torch.zeros(batch_size, x.size(1), self.num_caps_out).to(x.device)\n",
        "\n",
        "        for _ in range(self.routing_iters):\n",
        "            c = F.softmax(b, dim=2)\n",
        "            s = (c.unsqueeze(-1) * u_hat).sum(dim=1)\n",
        "            v = squash(s)\n",
        "            b = b + (u_hat * v.unsqueeze(1)).sum(dim=-1)\n",
        "\n",
        "        return v\n"
      ]
    },
    {
      "cell_type": "markdown",
      "source": [
        "##  Defining Capsule Loss (Margin Loss)\n",
        "We implement the Capsule Loss (also known as margin loss), which replaces cross-entropy in CapsNet.\n"
      ],
      "metadata": {
        "id": "t1YgCBI7kXaE"
      }
    },
    {
      "cell_type": "code",
      "execution_count": null,
      "metadata": {
        "id": "KYwhiyJDu-ZP"
      },
      "outputs": [],
      "source": [
        "class CapsuleNet(nn.Module):\n",
        "    def __init__(self):\n",
        "        super().__init__()\n",
        "        self.conv1 = nn.Conv2d(1, 256, kernel_size=9, stride=1)\n",
        "        self.primary_caps = PrimaryCapsules(256, 32, 8, kernel_size=9, stride=2)\n",
        "        self.digit_caps = DigitCapsules(32 * 6 * 6, 8, 10, 16)\n",
        "\n",
        "    def forward(self, x):\n",
        "        x = F.relu(self.conv1(x))\n",
        "        x = self.primary_caps(x)\n",
        "        x = self.digit_caps(x)\n",
        "        lengths = torch.norm(x, dim=-1)\n",
        "        return lengths\n"
      ]
    },
    {
      "cell_type": "markdown",
      "source": [
        "##  Defining the Training Loop\n",
        "The `train` function performs forward propagation, computes loss, backpropagates, and updates weights using the optimizer.\n"
      ],
      "metadata": {
        "id": "VDQ_Nv0nkcFS"
      }
    },
    {
      "cell_type": "code",
      "execution_count": null,
      "metadata": {
        "id": "TnuhPluAvCIH"
      },
      "outputs": [],
      "source": [
        "def train(model, optimizer, train_loader, epoch):\n",
        "    model.train()\n",
        "    total_loss = 0\n",
        "    for batch_idx, (data, target) in enumerate(train_loader):\n",
        "        data, target = data.to(device), target.to(device)\n",
        "        optimizer.zero_grad()\n",
        "        output = model(data)\n",
        "\n",
        "        loss = F.mse_loss(output, F.one_hot(target, num_classes=10).float())\n",
        "        loss.backward()\n",
        "        optimizer.step()\n",
        "\n",
        "        total_loss += loss.item()\n",
        "        if batch_idx % 100 == 0:\n",
        "            print(f'Epoch {epoch} [{batch_idx * len(data)}/{len(train_loader.dataset)}] Loss: {loss.item():.4f}')\n",
        "    return total_loss / len(train_loader)\n"
      ]
    },
    {
      "cell_type": "markdown",
      "source": [
        "##  Defining the Testing Function\n",
        "The `test` function evaluates the model’s performance on the test set and prints accuracy.\n"
      ],
      "metadata": {
        "id": "E8EyI3J0kiXx"
      }
    },
    {
      "cell_type": "code",
      "execution_count": null,
      "metadata": {
        "id": "RfVBJ9AMvFI7"
      },
      "outputs": [],
      "source": [
        "def test(model, test_loader):\n",
        "    model.eval()\n",
        "    correct = 0\n",
        "    with torch.no_grad():\n",
        "        for data, target in test_loader:\n",
        "            data, target = data.to(device), target.to(device)\n",
        "            output = model(data)\n",
        "            pred = output.argmax(dim=1)\n",
        "            correct += pred.eq(target).sum().item()\n",
        "\n",
        "    print(f'Test Accuracy: {correct}/{len(test_loader.dataset)} = {100. * correct / len(test_loader.dataset):.2f}%')\n"
      ]
    },
    {
      "cell_type": "code",
      "execution_count": null,
      "metadata": {
        "colab": {
          "base_uri": "https://localhost:8080/"
        },
        "id": "tXgoAiknvHkJ",
        "outputId": "611a4e6a-137e-4237-d0b7-3edc7e123900"
      },
      "outputs": [
        {
          "output_type": "stream",
          "name": "stdout",
          "text": [
            "Epoch 1 [0/60000] Loss: 0.0993\n",
            "Epoch 1 [12800/60000] Loss: 0.0185\n",
            "Epoch 1 [25600/60000] Loss: 0.0130\n",
            "Epoch 1 [38400/60000] Loss: 0.0095\n",
            "Epoch 1 [51200/60000] Loss: 0.0064\n",
            "Test Accuracy: 9869/10000 = 98.69%\n",
            "Epoch 2 [0/60000] Loss: 0.0053\n",
            "Epoch 2 [12800/60000] Loss: 0.0051\n",
            "Epoch 2 [25600/60000] Loss: 0.0031\n",
            "Epoch 2 [38400/60000] Loss: 0.0049\n",
            "Epoch 2 [51200/60000] Loss: 0.0046\n",
            "Test Accuracy: 9897/10000 = 98.97%\n",
            "Epoch 3 [0/60000] Loss: 0.0044\n",
            "Epoch 3 [12800/60000] Loss: 0.0024\n",
            "Epoch 3 [25600/60000] Loss: 0.0036\n",
            "Epoch 3 [38400/60000] Loss: 0.0024\n",
            "Epoch 3 [51200/60000] Loss: 0.0017\n",
            "Test Accuracy: 9903/10000 = 99.03%\n",
            "Epoch 4 [0/60000] Loss: 0.0037\n",
            "Epoch 4 [12800/60000] Loss: 0.0018\n",
            "Epoch 4 [25600/60000] Loss: 0.0017\n",
            "Epoch 4 [38400/60000] Loss: 0.0030\n",
            "Epoch 4 [51200/60000] Loss: 0.0027\n",
            "Test Accuracy: 9914/10000 = 99.14%\n",
            "Epoch 5 [0/60000] Loss: 0.0011\n",
            "Epoch 5 [12800/60000] Loss: 0.0008\n",
            "Epoch 5 [25600/60000] Loss: 0.0016\n",
            "Epoch 5 [38400/60000] Loss: 0.0024\n",
            "Epoch 5 [51200/60000] Loss: 0.0027\n",
            "Test Accuracy: 9905/10000 = 99.05%\n",
            "Epoch 6 [0/60000] Loss: 0.0016\n",
            "Epoch 6 [12800/60000] Loss: 0.0029\n",
            "Epoch 6 [25600/60000] Loss: 0.0004\n",
            "Epoch 6 [38400/60000] Loss: 0.0010\n",
            "Epoch 6 [51200/60000] Loss: 0.0007\n",
            "Test Accuracy: 9919/10000 = 99.19%\n",
            "Epoch 7 [0/60000] Loss: 0.0009\n",
            "Epoch 7 [12800/60000] Loss: 0.0003\n",
            "Epoch 7 [25600/60000] Loss: 0.0006\n",
            "Epoch 7 [38400/60000] Loss: 0.0014\n",
            "Epoch 7 [51200/60000] Loss: 0.0012\n",
            "Test Accuracy: 9918/10000 = 99.18%\n",
            "Epoch 8 [0/60000] Loss: 0.0008\n",
            "Epoch 8 [12800/60000] Loss: 0.0008\n",
            "Epoch 8 [25600/60000] Loss: 0.0005\n",
            "Epoch 8 [38400/60000] Loss: 0.0024\n",
            "Epoch 8 [51200/60000] Loss: 0.0013\n",
            "Test Accuracy: 9908/10000 = 99.08%\n",
            "Epoch 9 [0/60000] Loss: 0.0006\n",
            "Epoch 9 [12800/60000] Loss: 0.0006\n",
            "Epoch 9 [25600/60000] Loss: 0.0008\n",
            "Epoch 9 [38400/60000] Loss: 0.0008\n",
            "Epoch 9 [51200/60000] Loss: 0.0007\n",
            "Test Accuracy: 9927/10000 = 99.27%\n",
            "Epoch 10 [0/60000] Loss: 0.0011\n",
            "Epoch 10 [12800/60000] Loss: 0.0002\n"
          ]
        }
      ],
      "source": [
        "device = torch.device('cuda' if torch.cuda.is_available() else 'cpu')\n",
        "model = CapsuleNet().to(device)\n",
        "optimizer = torch.optim.Adam(model.parameters(), lr=0.001)\n",
        "\n",
        "for epoch in range(1, 11):\n",
        "    loss = train(model, optimizer, train_loader, epoch)\n",
        "    test(model, test_loader)\n"
      ]
    },
    {
      "cell_type": "markdown",
      "source": [
        "##  Final Test Accuracy and Observations\n",
        "After training, we observe the test accuracy reach up to ~99.27%. This demonstrates the power of Capsule Networks on MNIST.\n"
      ],
      "metadata": {
        "id": "njjj_V7JksbM"
      }
    },
    {
      "cell_type": "markdown",
      "source": [
        "##  Conclusion\n",
        "Capsule Networks are a powerful alternative to CNNs, especially for spatially aware tasks. This project successfully demonstrates a custom PyTorch implementation on the MNIST dataset.\n",
        "\n",
        "---\n",
        "\n",
        "🧠 Created by: Mayank Pratap Singh\n"
      ],
      "metadata": {
        "id": "JBnKFh-Qkymg"
      }
    }
  ],
  "metadata": {
    "colab": {
      "provenance": []
    },
    "kernelspec": {
      "display_name": "Python 3",
      "name": "python3"
    },
    "language_info": {
      "name": "python"
    }
  },
  "nbformat": 4,
  "nbformat_minor": 0
}